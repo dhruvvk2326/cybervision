{
 "cells": [
  {
   "cell_type": "code",
   "execution_count": null,
   "metadata": {},
   "outputs": [],
   "source": [
    "# %%\n",
    "import os\n",
    "import numpy as np\n",
    "import pandas as pd\n",
    "from sklearn.model_selection import GridSearchCV\n",
    "from sklearn.svm import SVC\n",
    "from sklearn.metrics import accuracy_score, precision_score, recall_score, f1_score, confusion_matrix\n",
    "import keras.utils as image\n",
    "from keras.applications.mobilenet import MobileNet\n",
    "from keras.models import Model\n",
    "from keras.layers import GlobalAveragePooling2D\n",
    "from sklearn.metrics import matthews_corrcoef\n",
    "import time\n",
    "import matplotlib.pyplot as plt\n",
    "import seaborn as sns\n",
    "from sklearn.metrics import ConfusionMatrixDisplay"
   ]
  },
  {
   "cell_type": "code",
   "execution_count": null,
   "metadata": {},
   "outputs": [],
   "source": [
    "# %%\n",
    "os.environ[\"CUDA_VISIBLE_DEVICES\"] = \"5\"\n",
    "\n",
    "# %%\n",
    "# Define directories\n",
    "train_dir = 'C:/Users/dhruv/Desktop/project/CyberVision-Advanced-Visual-Malware-Classification-main/malimg_dataset/train'\n",
    "test_dir = 'C:/Users/dhruv/Desktop/project/CyberVision-Advanced-Visual-Malware-Classification-main/malimg_dataset/test'\n"
   ]
  },
  {
   "cell_type": "code",
   "execution_count": null,
   "metadata": {},
   "outputs": [],
   "source": [
    "# %%\n",
    "image_size = (224, 224, 3)\n",
    "\n",
    "# %%\n",
    "# Function to load images\n",
    "def load_images(directory):\n",
    "    images = []\n",
    "    labels = []\n",
    "    for label, class_name in enumerate(os.listdir(directory)):\n",
    "        class_dir = os.path.join(directory, class_name)\n",
    "        if os.path.isdir(class_dir):\n",
    "            for filename in os.listdir(class_dir):\n",
    "                img_path = os.path.join(class_dir, filename)\n",
    "                img = image.load_img(img_path, target_size=image_size)\n",
    "                img_array = image.img_to_array(img)\n",
    "                images.append(img_array)\n",
    "                labels.append(label)\n",
    "    return np.array(images), np.array(labels)"
   ]
  },
  {
   "cell_type": "code",
   "execution_count": null,
   "metadata": {},
   "outputs": [],
   "source": [
    "# %%\n",
    "# Load training and test images\n",
    "train_images, train_labels = load_images(train_dir)\n",
    "test_images, test_labels = load_images(test_dir)\n",
    "\n",
    "# Preprocess images\n",
    "train_images = train_images.astype('float32') / 255.0\n",
    "test_images = test_images.astype('float32') / 255.0"
   ]
  },
  {
   "cell_type": "code",
   "execution_count": null,
   "metadata": {},
   "outputs": [],
   "source": [
    "# %%\n",
    "# Load MobileNetV1 model\n",
    "base_mobilenet = MobileNet(weights='imagenet', include_top=False, input_shape=(224, 224, 3), pooling='None')\n",
    "\n",
    "# Add Global Average Pooling (GAP) layer\n",
    "x = base_mobilenet.output\n",
    "x = GlobalAveragePooling2D()(x)\n",
    "\n",
    "# Create the model\n",
    "mobilenet_with_gap = Model(inputs=base_mobilenet.input, outputs=x)\n",
    "\n",
    "# %%"
   ]
  },
  {
   "cell_type": "code",
   "execution_count": null,
   "metadata": {},
   "outputs": [],
   "source": [
    "# Function to extract features\n",
    "def extract_features(model, images, batch_size):\n",
    "    num_images = images.shape[0]\n",
    "    features = []\n",
    "    for start_idx in range(0, num_images, batch_size):\n",
    "        end_idx = min(start_idx + batch_size, num_images)\n",
    "        batch = images[start_idx:end_idx]\n",
    "        batch_features = model.predict(batch)\n",
    "        features.append(batch_features)\n",
    "    return np.concatenate(features)\n"
   ]
  },
  {
   "cell_type": "code",
   "execution_count": null,
   "metadata": {},
   "outputs": [],
   "source": [
    "# %%\n",
    "# Extract features using MobileNetV1\n",
    "batch_size = 8\n",
    "train_features = extract_features(mobilenet_with_gap, train_images, batch_size)\n",
    "test_features = extract_features(mobilenet_with_gap, test_images, batch_size)\n"
   ]
  },
  {
   "cell_type": "code",
   "execution_count": null,
   "metadata": {},
   "outputs": [],
   "source": [
    "# %%\n",
    "# Define the parameter grid for SVM\n",
    "svm_param_grid = {'C': [0.1, 1, 10, 100, 1000], 'gamma': [1, 0.1, 0.01, 0.001, 0.0001], \n",
    "              'kernel': ['rbf', 'poly', 'sigmoid', 'linear']}\n",
    "\n",
    "# Create SVM classifier\n",
    "svm_classifier = SVC()\n",
    "\n",
    "# Use GridSearchCV to find the best parameters for SVM\n",
    "svm_grid_search = GridSearchCV(svm_classifier, svm_param_grid, cv=3, scoring='accuracy', n_jobs=-1)\n",
    "svm_grid_search.fit(train_features, train_labels)\n",
    "\n",
    "# Get the best parameters for SVM\n",
    "best_svm_params = svm_grid_search.best_params_\n",
    "\n",
    "# Train the final SVM model with the best parameters\n",
    "final_svm_classifier = SVC(**best_svm_params)\n",
    "start_time_svm = time.time()\n",
    "final_svm_classifier.fit(train_features, train_labels)\n",
    "train_time_svm = time.time() - start_time_svm\n",
    "\n",
    "# Predict labels for the test set using SVM\n",
    "svm_predictions = final_svm_classifier.predict(test_features)\n",
    "\n",
    "# Evaluate accuracy for SVM\n",
    "svm_accuracy = accuracy_score(test_labels, svm_predictions)\n",
    "print(\"\\nBest SVM Parameters:\", best_svm_params)\n",
    "print(\"SVM Accuracy:\", svm_accuracy)"
   ]
  },
  {
   "cell_type": "code",
   "execution_count": null,
   "metadata": {},
   "outputs": [],
   "source": [
    "# %%\n",
    "# Additional evaluation metrics for SVM\n",
    "precision_svm = precision_score(test_labels, svm_predictions, average='weighted')\n",
    "recall_svm = recall_score(test_labels, svm_predictions, average='weighted')\n",
    "f1_svm = f1_score(test_labels, svm_predictions, average='weighted')\n",
    "\n",
    "print(\"Train Time (sec) SVM:\", train_time_svm)\n",
    "grid_train_time_svm = svm_grid_search.cv_results_['mean_fit_time'][svm_grid_search.best_index_]\n",
    "print(\"Train Time (sec) Grid SVM:\", grid_train_time_svm)\n",
    "\n",
    "# Calculate Matthews Correlation Coefficient (MCC) for SVM\n",
    "mcc_svm = matthews_corrcoef(test_labels, svm_predictions)\n",
    "print(\"Matthews Correlation Coefficient (MCC) SVM:\", mcc_svm)\n",
    "\n",
    "# Accuracy for optimization algorithm (GridSearchCV)\n",
    "optimization_accuracy_svm = svm_grid_search.best_score_\n",
    "print(\"Optimization Algorithm Accuracy SVM:\", optimization_accuracy_svm)"
   ]
  },
  {
   "cell_type": "code",
   "execution_count": null,
   "metadata": {},
   "outputs": [],
   "source": [
    "# %%\n",
    "# Confusion matrix for SVM\n",
    "conf_matrix_svm = confusion_matrix(test_labels, svm_predictions)\n",
    "precision_svm = precision_score(test_labels, svm_predictions, average='weighted')\n",
    "\n",
    "FP_svm = conf_matrix_svm.sum(axis=0) - np.diag(conf_matrix_svm)\n",
    "FN_svm = conf_matrix_svm.sum(axis=1) - np.diag(conf_matrix_svm)\n",
    "TP_svm = np.diag(conf_matrix_svm)\n",
    "TN_svm = conf_matrix_svm.sum()\n",
    "\n",
    "# %%\n",
    "# Display results for SVM\n",
    "print(\"\\nResults for SVM:\")\n",
    "print(\"Precision (SVM):\", precision_svm)\n",
    "print(\"Recall (SVM):\", recall_svm)\n",
    "print(\"F1 Score (SVM):\", f1_svm)\n",
    "print(\"True Positive Rate (TPR) (SVM):\", np.mean(TP_svm / (TP_svm + FN_svm)))\n",
    "print(\"True Negative Rate (TNR) (SVM):\", np.mean(TN_svm / (TN_svm + FP_svm)))\n",
    "print(\"False Positive Rate (FPR) (SVM):\", np.mean(FP_svm / (FP_svm + TN_svm)))\n",
    "print(\"False Negative Rate (FNR) (SVM):\", np.mean(FN_svm / (TP_svm + FN_svm)))\n",
    "print(\"False Discovery Rate (FDR) (SVM):\", np.mean(FP_svm / (FP_svm + TP_svm)))\n",
    "print(\"False Omission Rate (FOR) (SVM):\", np.mean(FN_svm / (FN_svm + TN_svm)))\n",
    "print(\"Matthews Correlation Coefficient (MCC) (SVM):\", mcc_svm)"
   ]
  },
  {
   "cell_type": "code",
   "execution_count": null,
   "metadata": {},
   "outputs": [],
   "source": [
    "# Plot TPR, TNR, FPR, FNR\n",
    "fig, ax = plt.subplots(figsize=(15, 10))\n",
    "\n",
    "bar_width = 0.2\n",
    "index = np.arange(25)  # Assuming you have 25 classes, adjust this based on your data\n",
    "\n",
    "bar1 = ax.bar(index, TP_svm, bar_width, label='TPR')\n",
    "bar2 = ax.bar(index + bar_width, TN_svm, bar_width, label='TNR')\n",
    "bar3 = ax.bar(index + 2 * bar_width, FP_svm, bar_width, label='FPR')\n",
    "bar4 = ax.bar(index + 3 * bar_width, FN_svm, bar_width, label='FNR')\n",
    "\n",
    "ax.set_xlabel('Class')\n",
    "ax.set_ylabel('Scores')\n",
    "ax.set_title('Comparison of TPR, TNR, FPR, FNR for knn')\n",
    "ax.set_xticks(index + 1.5 * bar_width)\n",
    "ax.legend()\n",
    "\n",
    "plt.show()"
   ]
  },
  {
   "cell_type": "code",
   "execution_count": null,
   "metadata": {},
   "outputs": [],
   "source": [
    "# %%\n",
    "# Plot Confusion Matrix for SVM\n",
    "fig, ax = plt.subplots(figsize=(20, 20))\n",
    "sns.set(font_scale=1.2)  # Adjust font size for better readability\n",
    "disp = ConfusionMatrixDisplay(conf_matrix_svm, display_labels=np.unique(test_labels))\n",
    "disp.plot(cmap='Blues', ax=ax)\n",
    "plt.title('Confusion Matrix for SVM')\n",
    "plt.show()\n"
   ]
  }
 ],
 "metadata": {
  "kernelspec": {
   "display_name": "Python 3",
   "language": "python",
   "name": "python3"
  },
  "language_info": {
   "codemirror_mode": {
    "name": "ipython",
    "version": 3
   },
   "file_extension": ".py",
   "mimetype": "text/x-python",
   "name": "python",
   "nbconvert_exporter": "python",
   "pygments_lexer": "ipython3",
   "version": "3.11.5"
  }
 },
 "nbformat": 4,
 "nbformat_minor": 2
}
